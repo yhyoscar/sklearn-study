{
 "cells": [
  {
   "cell_type": "markdown",
   "metadata": {},
   "source": [
    "# Notes of Hidden Markov Model\n",
    "\n",
    "Haiyang Yu, 2018-09-10\n",
    "\n",
    "Contents:\n",
    "\n",
    "- 1. Markov Chain\n",
    "    + Solving the equelibrium state\n",
    "    + Absorbing Markov model\n",
    "- 2. Hidden Markov Model\n",
    "    + Learning: EM algorithm\n",
    "    \n",
    "References:\n",
    "- https://en.wikipedia.org/wiki/Markov_chain\n",
    "- https://en.wikipedia.org/wiki/Hidden_Markov_model\n",
    "- Speech and Language Processing. Daniel Jurafsky & James H. Martin.\n",
    "- Tenyakov, Anton, \"Estimation of Hidden Markov Models and Their Applications in Finance\" (2014). Electronic Thesis and Dissertation Repository. 2348.\n"
   ]
  },
  {
   "cell_type": "markdown",
   "metadata": {},
   "source": [
    "## 1. Markov Chain\n",
    "\n",
    "In probability theory and related fields, a Markov process, named after the Russian mathematician **Andrey Markov**, is a stochastic process that satisfies the Markov property (sometimes characterized as \"memorylessness\"). \n",
    "\n",
    "A discrete-time Markov chain is a sequence of random variables $X_1$, $X_2$, ... with the **Markov property**, namely that the probability of moving to the next state depends only on the present state and not on the previous states:\n",
    "\n",
    "$$ Pr(X_{t+1} = x | X_1=x_1, X_2 = x-2, ..., X_t=x_t) = Pr(X_{t+1}=x|X_t=x_t) $$\n",
    "\n",
    "$$ \\pi_{t+1} = \\pi_t A $$\n",
    "Where, $\\pi$ is the probability distribution vector over states, A is the state trasition matrix: $a_{ij} = P(X_{t}=i|X_{t+1}=j)$\n",
    "\n",
    "Time-homogeneous Markov chain: transition matrix A is time invariant.\n",
    "\n",
    "Constraint: $\\Sigma_i \\pi_i = 1, i=1,2,...,n$ (n is the number of states)\n"
   ]
  },
  {
   "cell_type": "markdown",
   "metadata": {},
   "source": [
    "### Equilibrium (stationary) distribution\n",
    "\n",
    "$$\\pi = \\pi A$$\n",
    "\n",
    "$$(A-I)^T \\pi^T = 0$$\n",
    "\n",
    "Solve this linear system with constraint $\\Sigma \\pi_i=1$, we can get the stationary distribution $\\pi$.\n",
    "\n",
    "Perron–Frobenius theorem:\n",
    "\n",
    "$$\\lim_{k \\to \\infty} A^k = \\mathbf{1} \\pi$$\n",
    "Where, $\\mathbf{1}$ is the column vector where all entries are 1.\n"
   ]
  },
  {
   "cell_type": "code",
   "execution_count": 1,
   "metadata": {},
   "outputs": [],
   "source": [
    "import numpy as np\n",
    "import matplotlib\n",
    "%matplotlib inline\n",
    "import matplotlib.pyplot as plt\n",
    "from mod_MC import *"
   ]
  },
  {
   "cell_type": "code",
   "execution_count": 2,
   "metadata": {},
   "outputs": [
    {
     "name": "stdout",
     "output_type": "stream",
     "text": [
      "[0.625  0.3125 0.0625]\n",
      "[0.62623785 0.31136835 0.0623938 ]\n",
      "[0.6227367  0.31456919 0.06269412]\n",
      "[0.62393798 0.31347059 0.06259143]\n"
     ]
    },
    {
     "data": {
      "image/png": "[encoded data removed]",
      "text/plain": [
       "<Figure size 1080x432 with 6 Axes>"
      ]
     },
     "metadata": {},
     "output_type": "display_data"
    }
   ],
   "source": [
    "A = np.array([[0.9, 0.075, 0.025], \n",
    "             [0.15,   0.8,  0.05], \n",
    "             [0.25,  0.25,   0.5]])\n",
    "print( solve_stationary(A) )\n",
    "\n",
    "ndim  = 3\n",
    "ntime = 20\n",
    "plt.figure(1, figsize=(15,6) )\n",
    "for k in range(ndim):\n",
    "    plt.subplot(ndim,1,k+1)\n",
    "    ps = np.zeros([ntime, ndim])\n",
    "    ps[0,k] = 1\n",
    "    for i in range(ntime-1):\n",
    "        ps[i+1,:] = np.dot(ps[i,:], A)\n",
    "        \n",
    "    plt.imshow(ps.T)\n",
    "    plt.axis('off')\n",
    "    plt.colorbar()\n",
    "    print(ps[-1,:])\n",
    "    \n",
    "plt.show()\n"
   ]
  },
  {
   "cell_type": "markdown",
   "metadata": {},
   "source": [
    "### Absorbing Markov Chain\n",
    "\n",
    "https://en.wikipedia.org/wiki/Absorbing_Markov_chain\n",
    "\n",
    "Example: string generation.\n",
    "\n",
    "Consider the process of repeatedly flipping a fair coin until the sequence (heads, tails, heads) appears. What is the expectation of the number of steps before stopping?\n"
   ]
  },
  {
   "cell_type": "markdown",
   "metadata": {},
   "source": [
    "## Hidden Markov Model\n",
    "\n",
    "Transition equation: $\\pi_t = \\pi_{t-1} A$\n",
    "\n",
    "Emission equation: $o_t = \\pi_t B$\n",
    "\n",
    ", where $\\pi$ is hidden state distribution, $o$ is observation distribution.\n",
    "\n",
    "<img src=\"./hmm01.png\">\n",
    "\n",
    "There foundamental questions:\n",
    "* Given the model parameters and observed data, calculate the likelihood of the data.\n",
    "$$ P(Y|\\theta), where \\ \\theta=(A,B) $$\n",
    "    - Solved by **Forward algorithm**\n",
    "* Given the model parameters and observed data, estimate the optimal sequence of hidden states.\n",
    "$$ X^* = argmax[ P(Y|\\theta, X) ] $$\n",
    "    - Solved by **Viterbi algorithm**\n",
    "    - filtering: $ P(X_T| Y_1, Y_2, ..., Y_T) $    \n",
    "    - smoothing: $ P(X_t | Y_1, Y_2, ..., Y_T), t<T $    \n",
    "* Learning: given just the observed data, estimate the model parameters.\n",
    "$$ \\theta^* = argmax[ P(Y|\\theta) ] $$\n",
    "    - Solved by **EM algorithm (Baum-Welch algorithm)**\n"
   ]
  },
  {
   "cell_type": "markdown",
   "metadata": {},
   "source": [
    "### Forward Algorithm\n",
    "\n",
    "**Target**: get the likelihood (probability) of data $P(Y|\\theta)$\n",
    "\n",
    "Suppose we know the hidden (latent) state sequence $X_1, X_2, ..., X_t$, then\n",
    "\n",
    "$$ P(Y|\\theta) = \\prod_{k=1}^{T} P(Y_k|X_k) $$\n",
    "\n",
    "The joint probability of a particular hidden state sequence and observation is:\n",
    "$$ P(Y, X) = P(Y|X)P(X) = \\prod_{k=1}^{T} P(Y_k|X_k) \\prod_{k=1}^{T} P(X_k|X_{k-1}) $$\n",
    "\n",
    "Therefore, the final likelihood (probability) of the observation is summing over all possible hidden state sequences:\n",
    "\n",
    "$$ P(Y) = \\sum_{X} P(Y, X) = \\sum_{X} P(Y|X)P(X) $$\n",
    "\n",
    "Time complexity of greedy algorithm: $O(N^T)$, where N is the number of hidden states.\n",
    "\n",
    "Dynamic programming: forward algorithm ($O(N^2 T)$)\n"
   ]
  },
  {
   "cell_type": "markdown",
   "metadata": {},
   "source": [
    "<img src=\"./hmm002.png\">\n",
    "<img src=\"./hmm003.png\">\n"
   ]
  },
  {
   "attachments": {
    "image.png": {
     "image/png": "[encoded data removed]"
    }
   },
   "cell_type": "markdown",
   "metadata": {},
   "source": [
    "### Viterbi algorithm\n",
    "\n",
    "**Target**: given the model parameters and observed data, get the best sequence of hidden states\n",
    "\n",
    "What is the \"best\"? Maximum Liklihood Estimation: $$ X^* = argmax[ P(Y|\\theta, X) ] $$\n",
    "\n",
    "Greedy algorithm: calculate the likelihood for each possible sequence of hidden states, and choose the largest one. time complexitiy ~ $O(N^T)$\n",
    "\n",
    "Dynamic programming (Viterbi algoithm): similar with forward algorithm \n",
    "![image.png](attachment:image.png)\n",
    "\n",
    "https://en.wikipedia.org/wiki/Viterbi_algorithm"
   ]
  },
  {
   "cell_type": "markdown",
   "metadata": {},
   "source": [
    "### Baum-Velch algorithm\n",
    "\n",
    "https://en.wikipedia.org/wiki/Baum%E2%80%93Welch_algorithm\n",
    "    "
   ]
  },
  {
   "cell_type": "code",
   "execution_count": 44,
   "metadata": {},
   "outputs": [
    {
     "name": "stdout",
     "output_type": "stream",
     "text": [
      "1.1436796345927811e-48\n",
      "[[0.39201057 0.60798943]\n",
      " [0.27755968 0.72244032]]\n",
      "[[0.01838104 0.10835137 0.87275003]\n",
      " [0.44118708 0.42971037 0.1148368 ]]\n"
     ]
    },
    {
     "data": {
      "image/png": "[encoded data removed]",
      "text/plain": [
       "<Figure size 432x288 with 1 Axes>"
      ]
     },
     "metadata": {},
     "output_type": "display_data"
    }
   ],
   "source": [
    "# Example: Consider a village where all villagers are either healthy or have a fever \n",
    "# and only the village doctor can determine whether each has a fever. \n",
    "# The doctor diagnoses fever by asking patients how they feel. \n",
    "# The villagers may only answer that they feel normal, dizzy, or cold.\n",
    "\n",
    "A = np.array([[0.7, 0.3], \n",
    "             [0.4, 0.6]])\n",
    "B = np.array([[0.1, 0.4, 0.5], \n",
    "             [0.6, 0.3, 0.1]])\n",
    "x, y = HMM_simulation(A, B, nt = 100)\n",
    "\n",
    "#print(x)\n",
    "#print(y)\n",
    "print( forward(A, B, y) )\n",
    "xguess = viterbi(A, B, y) \n",
    "#print(xguess)\n",
    "\n",
    "from sklearn.metrics import confusion_matrix\n",
    "import pandas as pd\n",
    "\n",
    "pd.DataFrame( confusion_matrix(x, xguess) )\n",
    "\n",
    "Aest, Best, errors = baum_welch(y, nx=2, maxiter=100)\n",
    "print(Aest)\n",
    "print(Best)\n",
    "plt.plot(errors)\n",
    "plt.yscale('log')"
   ]
  },
  {
   "cell_type": "code",
   "execution_count": 33,
   "metadata": {},
   "outputs": [],
   "source": []
  }
 ],
 "metadata": {
  "kernelspec": {
   "display_name": "Python 3",
   "language": "python",
   "name": "python3"
  },
  "language_info": {
   "codemirror_mode": {
    "name": "ipython",
    "version": 3
   },
   "file_extension": ".py",
   "mimetype": "text/x-python",
   "name": "python",
   "nbconvert_exporter": "python",
   "pygments_lexer": "ipython3",
   "version": "3.6.5"
  }
 },
 "nbformat": 4,
 "nbformat_minor": 2
}
