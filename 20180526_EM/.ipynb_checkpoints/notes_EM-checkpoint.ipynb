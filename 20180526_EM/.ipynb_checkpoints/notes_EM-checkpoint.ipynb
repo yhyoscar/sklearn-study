{
 "cells": [
  {
   "cell_type": "markdown",
   "metadata": {},
   "source": [
    "# Expectation-Maximization Algorithm\n",
    "\n",
    "Haiyang Yu, 05/26/2018\n",
    "\n",
    "Contents:\n",
    "- Theory\n",
    "- Examples\n",
    "    + Gaussian mixture model\n",
    "    + Missing data treatment\n",
    "    + Application in Hidden Markov Model (HMM)"
   ]
  },
  {
   "cell_type": "markdown",
   "metadata": {},
   "source": [
    "## Theory\n",
    "\n",
    "The EM algorithm is used to find (local) maximum likelihood parameters of a statistical model in cases where the equations cannot be solved directly. Typically these models involve latent variables in addition to unknown parameters and known data observations. \n",
    "\n",
    "Given the statistical model which generates a set of observed data $X$, a set of unobserved latent variables or missing values $Z$, and a vector of unknown parameters $\\theta$, the likelihood function is $L(\\theta; X, Z)$.\n",
    "\n",
    "Objective: to get the maximum likelihood estimate (MLE) of the unknown parameter and latent variables or missing data\n",
    "\n",
    "Traditional method: taking derivatives of $L$ with respect to $\\theta$ and find the optimal solution. However, latent variables $Z$ make this approach impossible.\n",
    "\n",
    "EM method: starting from an initialized $\\theta$, then\n",
    "+ E step: $ E_{Z|X,\\theta} \\ \\ [log L(\\theta; X, Z)] $\n",
    "+ M step: $ \\theta' = \\max_\\theta L(\\theta | X, Z) $\n",
    "\n",
    "https://en.wikipedia.org/wiki/Expectation%E2%80%93maximization_algorithm\n",
    "\n",
    "Maximization-Maximization view of EM:\n",
    "\n",
    "<img src=\"./EM_MM.png\">\n"
   ]
  },
  {
   "cell_type": "markdown",
   "metadata": {},
   "source": [
    "## Gaussian mixture model\n",
    "\n",
    "The PDF of the mixture distribution with $m$ components: \n",
    "\n",
    "$$ f(x) = \\Sigma_{i=1}^{m} \\ w_i \\phi(x|\\mu_i, \\sigma_i) $$\n",
    "\n",
    "Each component follows the normal distribution $ \\phi = N(\\mu_i, \\sigma_i)$.\n",
    "\n",
    "log-likelihood function: $logL(\\vec{w}, \\vec{\\mu}, \\vec{\\sigma}|X) = \\Sigma_{j=1}^{n} \\ logf(x_j|\\vec{w}, \\vec{\\mu}, \\vec{\\sigma}) $, where $n$ is the samples numble.\n",
    "\n",
    "Consider a membership matrix $Z$, where $Z_{ij} = 1$ if observation $x_j$ is drawn from distribution $i$, otherwise $Z_{ij} = 0$.\n",
    "\n",
    "E-step: calculate each component's proportion of the total likelihood \n",
    "$$ z_{ij}^{(k)} = \\frac {w_i^{(k)} \\phi(x_j; \\mu_i^{(k)}, \\sigma_i^{(k)}) }  { f(x_j; \\vec{w^{(k)}}, \\vec{\\mu^{(k)}}, \\vec{\\sigma^{(k)}} ) } $$\n",
    "\n",
    "M-step: update the parameters with $Z$\n",
    "\n",
    "$$ w_i^{(k+1)} = \\frac{1}{n} \\Sigma_{j=1}^{n} z_{ij}^{(k)} $$\n",
    "\n",
    "$$ \\mu_i^{(k+1)} = \\frac{\\Sigma_{j=1}^{n} z_{ij}^{(k)} x_j} {\\Sigma_{j=1}^{n} z_{ij}^{(k)}} $$\n",
    "\n",
    "$$ \\sigma_i^{(k+1)} = \\sqrt{ \\frac{\\Sigma_{j=1}^{n} z_{ij}^{(k)} (x_j-\\mu_i^{(k+1)})^2} {\\Sigma_{j=1}^{n} z_{ij}^{(k)}} } $$ \n",
    "\n"
   ]
  },
  {
   "cell_type": "code",
   "execution_count": 2,
   "metadata": {},
   "outputs": [],
   "source": [
    "import numpy as np\n",
    "import matplotlib\n",
    "import matplotlib.pyplot as plt\n",
    "from scipy import stats\n",
    "import sklearn\n",
    "import sklearn.metrics\n",
    "from operator import itemgetter\n"
   ]
  },
  {
   "cell_type": "code",
   "execution_count": 40,
   "metadata": {},
   "outputs": [
    {
     "name": "stdout",
     "output_type": "stream",
     "text": [
      "2.5977256298065186\n",
      "0.0032765865325927734\n"
     ]
    }
   ],
   "source": [
    "import time\n",
    "\n",
    "t0 = time.time()\n",
    "for i in range(100000):\n",
    "    stats.norm.rvs(size=1)\n",
    "print(time.time() - t0)\n",
    "\n",
    "t0 = time.time()\n",
    "stats.norm.rvs(size=100000)\n",
    "print(time.time() - t0)\n"
   ]
  },
  {
   "cell_type": "code",
   "execution_count": 44,
   "metadata": {},
   "outputs": [
    {
     "data": {
      "text/plain": [
       "(array([-3.80042531, -0.75539049, 10.14786037,  1.58059568, -0.75356461,\n",
       "        -6.78728123, -4.34165609,  6.56607602, -4.73420281,  2.29325092]),\n",
       " array([2, 0, 1, 2, 2, 1, 0, 1, 2, 2]))"
      ]
     },
     "execution_count": 44,
     "metadata": {},
     "output_type": "execute_result"
    }
   ],
   "source": [
    "# Gaussian mixture model \n",
    "\n",
    "def sampling(w=[0.5, 0.5], mu=[-1, 1], sigma=[1, 1], size=100):\n",
    "    ncomp = len(w); edge = [0] + list( np.cumsum(w/np.sum(w)) )\n",
    "    #print(edge)\n",
    "    prob = stats.uniform.rvs(size=size)\n",
    "    #print(prob)\n",
    "    x = np.zeros([size]) \n",
    "    y = np.zeros([size]).astype(int)\n",
    "    for i in range(ncomp):\n",
    "        flag = (prob>=edge[i]) & (prob<edge[i+1])\n",
    "        #print(i, flag)\n",
    "        x[flag] = stats.norm.rvs(loc=mu[i], scale=sigma[i], size=sum(flag))\n",
    "        y[flag] = i\n",
    "    return x, y\n",
    "\n",
    "sampling(w=[0.2, 0.5, 0.3], mu=[1,2,3], sigma=[4,6,8], size=10)"
   ]
  },
  {
   "cell_type": "code",
   "execution_count": 64,
   "metadata": {
    "scrolled": false
   },
   "outputs": [
    {
     "name": "stdout",
     "output_type": "stream",
     "text": [
      "-21224.463043328524\n",
      "[[  18 3041    0    6    9    0    0]\n",
      " [   0   17    0   33 4875   10    0]\n",
      " [   0    0    0    0   26 1957    8]\n",
      " [   0    0    0    0    0    0    0]\n",
      " [   0    0    0    0    0    0    0]\n",
      " [   0    0    0    0    0    0    0]\n",
      " [   0    0    0    0    0    0    0]]\n"
     ]
    },
    {
     "data": {
      "text/plain": [
       "[<matplotlib.lines.Line2D at 0x7fa4e980dba8>]"
      ]
     },
     "execution_count": 64,
     "metadata": {},
     "output_type": "execute_result"
    },
    {
     "data": {
      "image/png": "[encoded data removed]",
      "text/plain": [
       "<matplotlib.figure.Figure at 0x7fa4e99f8b38>"
      ]
     },
     "metadata": {},
     "output_type": "display_data"
    },
    {
     "data": {
      "image/png": "[encoded data removed]",
      "text/plain": [
       "<matplotlib.figure.Figure at 0x7fa4e9832ef0>"
      ]
     },
     "metadata": {},
     "output_type": "display_data"
    }
   ],
   "source": [
    "def cal_likelihood(x, w, mu, sigma):\n",
    "    n = len(x)\n",
    "    L = np.zeros([len(w), n])\n",
    "    for i in range(len(w)):\n",
    "        L[i,:] = w[i] / np.sqrt(2*np.pi) / \\\n",
    "            sigma[i] * np.exp(-0.5*((x-mu[i])/sigma[i])**2) \n",
    "    return L\n",
    "\n",
    "def mixture_Gaussian(x, ncomp, maxiteration=100):\n",
    "    nsample = len(x); xmean = np.mean(x); xstd = np.std(x)\n",
    "    w = np.zeros([ncomp]) + 1.0/ncomp\n",
    "    mu = stats.norm.rvs(loc=xmean, scale=xstd, size=ncomp)\n",
    "    sigma = np.zeros([ncomp]) + xstd\n",
    "    z = np.zeros([ncomp, nsample])\n",
    "    y = np.zeros([nsample]).astype(int)\n",
    "\n",
    "    histlogL = []\n",
    "    for k in range(maxiteration):\n",
    "        # E-step: update expectation matrix\n",
    "        likeli = cal_likelihood(x, w, mu, sigma)\n",
    "        z = likeli/np.sum(likeli, axis=0)\n",
    "        histlogL.append( np.sum( np.log(np.sum(likeli,axis=0)) ) )        \n",
    "        \n",
    "        # M-step: maximize likelihood    \n",
    "        w = np.sum(z, axis=1)/nsample\n",
    "        for i in range(ncomp):\n",
    "            if np.sum(z[i,:]) > 1e-6:\n",
    "                mu[i] = np.sum(z[i,:]*x) / np.sum(z[i,:])\n",
    "                sigma[i] = np.sqrt( np.sum(z[i,:] * \n",
    "                   (x-mu[i])*(x-mu[i]) ) / np.sum(z[i,:]) )\n",
    "            else:\n",
    "                mu[i] = xmean\n",
    "                sigma[i] = xstd\n",
    "\n",
    "    y = np.argmax(z, axis=0)\n",
    "    compid = list(range(ncomp))\n",
    "    tmp = sorted(zip(w,mu,sigma, compid), key=itemgetter(1), reverse=False)\n",
    "    for i in range(ncomp):\n",
    "        w[i] = tmp[i][0]\n",
    "        mu[i] = tmp[i][1]\n",
    "        sigma[i] = tmp[i][2]\n",
    "        compid[i] = tmp[i][3]\n",
    "    for j in range(nsample):\n",
    "        y[j] = compid.index(y[j])\n",
    "    return w, mu, sigma, y, histlogL, z\n",
    "\n",
    "w = [0.3, 0.5, 0.2]\n",
    "mu = [-3, 1, 5]\n",
    "sigma = [1, 0.5, 1.2]\n",
    "x, y = sampling(w=w, mu=mu, sigma=sigma, size=10000)\n",
    "true_logl = np.sum( np.log( np.sum( cal_likelihood(x, w, mu, sigma), axis=0) ) )\n",
    "print(true_logl)\n",
    "\n",
    "all_logl = []\n",
    "#ncomps = [1, 2, 3, 4, 5, 10, 20, 50, 100]\n",
    "ncomps = range(1, 11)\n",
    "\n",
    "for ncomp in ncomps:\n",
    "    w_est, mu_est, sigma_est, y_est, logL, z = mixture_Gaussian(x, \n",
    "        ncomp=ncomp, maxiteration=200)\n",
    "    all_logl.append(logL[-1])\n",
    "    #print('w_est = ', w_est)\n",
    "    #print('mu_est = ', mu_est)\n",
    "    #print('sigma_est = ', sigma_est)\n",
    "\n",
    "print( sklearn.metrics.confusion_matrix(y, y_est) )\n",
    "\n",
    "plt.figure(1, figsize=(12,5))\n",
    "plt.subplot(1,2,1)\n",
    "tmp = plt.hist(x, 100, density=True)\n",
    "plt.subplot(1,2,2)\n",
    "plt.plot(logL)\n",
    "plt.plot(range(len(logL)), np.zeros([len(logL)]) + true_logl )\n",
    "\n",
    "plt.figure(2)\n",
    "plt.plot(ncomps, all_logl)\n"
   ]
  },
  {
   "cell_type": "code",
   "execution_count": 24,
   "metadata": {},
   "outputs": [
    {
     "data": {
      "text/plain": [
       "<matplotlib.colorbar.Colorbar at 0x7fa4ebae09b0>"
      ]
     },
     "execution_count": 24,
     "metadata": {},
     "output_type": "execute_result"
    },
    {
     "data": {
      "image/png": "[encoded data removed]",
      "text/plain": [
       "<matplotlib.figure.Figure at 0x7fa4ec0c68d0>"
      ]
     },
     "metadata": {},
     "output_type": "display_data"
    }
   ],
   "source": [
    "plt.figure(1, figsize=(20, 4))\n",
    "plt.imshow(z)\n",
    "plt.colorbar()"
   ]
  },
  {
   "cell_type": "code",
   "execution_count": null,
   "metadata": {},
   "outputs": [],
   "source": []
  },
  {
   "cell_type": "markdown",
   "metadata": {},
   "source": [
    "## Missing data treatment\n",
    "\n",
    "+ multi-variate normal distribution generator\n",
    "+ missing data mask\n",
    "+ EM algorithm\n",
    "    - linear regression\n",
    "    - E-step: fill the missing data (X,theta) -> Z\n",
    "    - M-step: point estimate (X,Z) -> theta\n",
    "    - log likelihood (X,Z,theta) -> L        \n",
    "+ evalution\n",
    "    - compare with the original data: MSE\n",
    "    - compare the covariance matrix\n"
   ]
  },
  {
   "cell_type": "code",
   "execution_count": 66,
   "metadata": {},
   "outputs": [],
   "source": [
    "# multi-variate normal distribution generator\n",
    "def multinormal(mean=[0,0], cov=[[1,0], [0,1]], size=100):\n",
    "    rv = stats.multivariate_normal(mean=mean, cov=cov, allow_singular=False)\n",
    "    return rv.rvs(size=size)\n",
    "\n",
    "# M-step: x, z(k) -> theta(k) (i.e. mean and cov)\n",
    "# unbiased point estimates for multi-variate normal distribution\n",
    "# key: Var ~ (N-1); Covar ~ (N-2)\n",
    "def pointestimate(x, unbiased=False):\n",
    "    nsample, ndim = x.shape[0], x.shape[1]\n",
    "    xmean = np.mean(x, axis=0)\n",
    "    xcov  = np.dot(x.T, x)\n",
    "    if unbiased:\n",
    "        xcov = np.diag(xcov)/(nsample-1) + (xcov-np.diag(xcov))/(nsample-2)\n",
    "    else:\n",
    "        xcov = xcov/nsample        \n",
    "    return xmean, xcov\n",
    "\n",
    "# mask to create missing data\n",
    "def mask(x, nmask=10):\n",
    "    nsample, ndim = x.shape[0], x.shape[1]\n",
    "    flag = np.zeros([nsample, ndim]).astype(int)\n",
    "    isample = np.random.choice(nsample, nmask)\n",
    "    idim = np.random.choice(ndim, nmask)\n",
    "    y = x + 0\n",
    "    flag[isample, idim] = 1\n",
    "    y[isample, idim] = np.nan\n",
    "    return y, flag\n",
    "\n",
    "# get coefficients of ordinary linear regression\n",
    "def LR_coef(x, y, flag=1):\n",
    "    # x[nsample, ndim]; y[nsample]\n",
    "    # flag: 1 use sklearn; 2 use normal equation\n",
    "    nsample, ndim = x.shape[0], x.shape[1]\n",
    "    if flag == 1:\n",
    "        lr = linear_model.LinearRegression()\n",
    "        lr.fit(x, y)\n",
    "        beta = np.array([lr.intercept_] + list(lr.coef_))\n",
    "    if flag == 2:\n",
    "        xext = np.append(1+np.zeros([nsample,1]), x, axis=1)\n",
    "        beta = np.dot(np.linalg.inv(np.dot(xext.T, xext)), \\\n",
    "                      np.dot(xext.T, y.reshape([nsample,1])))\n",
    "    return beta\n",
    "\n",
    "# mean, cov -> beta matrix\n",
    "def get_beta(mean, cov):\n",
    "    ndim = cov.shape[0]\n",
    "    beta = np.zeros([ndim, ndim+1])\n",
    "    augcov = np.zeros([ndim, ndim])\n",
    "    augcov[0,0] = 1.0\n",
    "    y = np.zeros([ndim, 1])\n",
    "    for i in range(ndim):\n",
    "        index = list(range(ndim))\n",
    "        index.pop(i)\n",
    "        betaid = [0] + [i+1 for i in index]\n",
    "        augcov[0,1:] = mean[index]\n",
    "        augcov[1:,0] = mean[index]\n",
    "        for j in range(ndim-1):\n",
    "            augcov[j+1,1:] = cov[index[j], index]\n",
    "        y[0,0] = mean[i]\n",
    "        y[1:,0] = cov[index, i]\n",
    "        #print('------ ', i, '------')\n",
    "        #print(augcov)\n",
    "        #print(y)\n",
    "        beta[i, betaid] = np.dot(np.linalg.inv(augcov), y)[:,0]\n",
    "    return beta\n",
    "\n",
    "def update_LR(x, beta):\n",
    "    xext = np.append(1+np.zeros([x.shape[0],1]), x, axis=1)\n",
    "    return np.dot(xext, beta.T)\n",
    "\n",
    "# E-step: x, theta(k-1) (i.e. mean and cov) -> z(k)\n",
    "def E_step(x, flag, mean, cov):\n",
    "    if np.sum(flag) > 0:\n",
    "        nsample, ndim = x.shape[0], x.shape[1]\n",
    "        tmp = np.zeros([nsample, ndim]) + mean.reshape([1, ndim])\n",
    "        x[flag==1] = tmp[flag==1]\n",
    "    beta = get_beta(mean, cov)\n",
    "    x = update_LR(x, beta)\n",
    "    return\n",
    "\n",
    "def loglikelihood(x, mean, cov):\n",
    "    nsample, ndim = x.shape[0], x.shape[1]\n",
    "    cov_inv = np.linalg.inv(cov)\n",
    "    logll = np.sum(np.dot(x - mean.reshape([1,ndim]), cov_inv) * \\\n",
    "            (x-mean.reshape([1,ndim]))) + \\\n",
    "            nsample*np.log(abs(np.linalg.det(cov))) + \\\n",
    "            nsample*ndim*np.log(2*np.pi)\n",
    "    return -0.5*logll\n",
    "\n",
    "def EM_missingdata(x0, obs, niteration=100, init=1):\n",
    "    nsp, ndim = x0.shape[0], x0.shape[1]\n",
    "    flag = np.zeros([nsp, ndim]).astype(int)\n",
    "    flag[np.isnan(x0)] = 1\n",
    "    print('missing data: ', np.sum(flag))\n",
    "    flag1d = np.sum(x0, axis=1)\n",
    "    xmean, xcov = pointestimate(x0[~np.isnan(flag1d),:])\n",
    "    if init == 1:\n",
    "        xcov = np.diag(np.diag(xcov))\n",
    "    x = x0 + 0\n",
    "    tmp = np.zeros([nsp, ndim]) + np.nanmean(x0, axis=0).reshape([1, ndim])\n",
    "    x[flag==1] = tmp[flag==1]\n",
    "    logll = [loglikelihood(x, xmean, xcov) ]\n",
    "    mse = [ np.sum( (obs[flag==1] - x[flag==1])**2 )/np.sum(flag) ]\n",
    "    for k in range(niteration):\n",
    "        # E-step:\n",
    "        beta = get_beta(xmean, xcov)\n",
    "        y = update_LR(x, beta)\n",
    "        x[flag==1] = y[flag==1]\n",
    "\n",
    "        # M-step:\n",
    "        xmean, xcov = pointestimate(x)\n",
    "\n",
    "        logll.append( loglikelihood(x, xmean, xcov) )\n",
    "        mse.append(  np.sum( (obs[flag==1] - x[flag==1])**2 )/np.sum(flag)  )\n",
    "\n",
    "        \n",
    "    return x, logll, mse"
   ]
  },
  {
   "cell_type": "code",
   "execution_count": 89,
   "metadata": {},
   "outputs": [
    {
     "name": "stdout",
     "output_type": "stream",
     "text": [
      "missing data:  5\n",
      " comp.:  [0 2 0 0 1]\n",
      "missed:  [-1.42683236  0.49972579 -0.27591168 -0.08353604  0.56229263]\n",
      "filled:  [-1.3282642   1.32681792  0.23374485  0.30848406  0.96822277]\n",
      "cov of original data: \n",
      "[[0.97469322 0.81215752 0.11118206]\n",
      " [0.81215752 1.08127351 0.58993075]\n",
      " [0.11118206 0.58993075 0.88118902]]\n",
      "cov of filled data: \n",
      "[[1.00281994 0.8736761  0.15617167]\n",
      " [0.8736761  1.15052627 0.63038769]\n",
      " [0.15617167 0.63038769 0.90418274]]\n"
     ]
    },
    {
     "data": {
      "text/plain": [
       "[<matplotlib.lines.Line2D at 0x7fa4ea9e56a0>]"
      ]
     },
     "execution_count": 89,
     "metadata": {},
     "output_type": "execute_result"
    },
    {
     "data": {
      "image/png": "[encoded data removed]",
      "text/plain": [
       "<matplotlib.figure.Figure at 0x7fa4e8519438>"
      ]
     },
     "metadata": {},
     "output_type": "display_data"
    },
    {
     "data": {
      "image/png": "[encoded data removed]",
      "text/plain": [
       "<matplotlib.figure.Figure at 0x7fa4e99eba90>"
      ]
     },
     "metadata": {},
     "output_type": "display_data"
    }
   ],
   "source": [
    "gmean = np.array( [0, 0, 0] )\n",
    "gcov = np.array( [[1, 0.8, 0.1], \n",
    "         [0.8, 1, 0.6], \n",
    "         [0.1, 0.6, 1]] )\n",
    "\n",
    "size = 40\n",
    "nmask = 5\n",
    "ncomp = len(gmean)\n",
    "\n",
    "x = multinormal(size=size, mean=gmean, \\\n",
    "    cov=gcov)\n",
    "\n",
    "xx, yy = np.meshgrid(range(ncomp), range(size))\n",
    "xmiss, flag = mask(x, nmask=nmask)\n",
    "xfill, logll, mse = EM_missingdata(xmiss, x, niteration=100)\n",
    "\n",
    "print(' comp.: ', xx[np.isnan(xmiss)] )\n",
    "print('missed: ', x[np.isnan(xmiss)] )\n",
    "print('filled: ', xfill[np.isnan(xmiss)] )\n",
    "\n",
    "plt.figure(1, figsize=(16,4))\n",
    "plt.imshow(xmiss.T)\n",
    "\n",
    "# results\n",
    "flag1d = np.sum(xmiss, axis=1)\n",
    "print('cov of original data: ')\n",
    "print( pointestimate(xmiss[~np.isnan(flag1d),:])[1] )\n",
    "print('cov of filled data: ')\n",
    "print( pointestimate(xfill)[1] )\n",
    "\n",
    "plt.figure(2, figsize=(12, 4))\n",
    "plt.subplot(1,2,1)\n",
    "plt.plot(logll, 'r.-')\n",
    "\n",
    "plt.subplot(1,2,2)\n",
    "plt.plot(mse, 'r.-')"
   ]
  },
  {
   "cell_type": "code",
   "execution_count": null,
   "metadata": {},
   "outputs": [],
   "source": []
  }
 ],
 "metadata": {
  "kernelspec": {
   "display_name": "Python 3",
   "language": "python",
   "name": "python3"
  },
  "language_info": {
   "codemirror_mode": {
    "name": "ipython",
    "version": 3
   },
   "file_extension": ".py",
   "mimetype": "text/x-python",
   "name": "python",
   "nbconvert_exporter": "python",
   "pygments_lexer": "ipython3",
   "version": "3.6.4"
  }
 },
 "nbformat": 4,
 "nbformat_minor": 2
}
